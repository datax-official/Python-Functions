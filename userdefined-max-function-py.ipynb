{
 "cells": [
  {
   "cell_type": "markdown",
   "id": "6758ad75",
   "metadata": {
    "_cell_guid": "b1076dfc-b9ad-4769-8c92-a6c4dae69d19",
    "_uuid": "8f2839f25d086af736a60e9eeb907d3b93b6e0e5",
    "execution": {
     "iopub.execute_input": "2024-07-04T07:18:51.179149Z",
     "iopub.status.busy": "2024-07-04T07:18:51.178161Z",
     "iopub.status.idle": "2024-07-04T07:18:52.403172Z",
     "shell.execute_reply": "2024-07-04T07:18:52.401890Z",
     "shell.execute_reply.started": "2024-07-04T07:18:51.179099Z"
    },
    "papermill": {
     "duration": 0.002282,
     "end_time": "2024-07-04T07:22:02.959600",
     "exception": false,
     "start_time": "2024-07-04T07:22:02.957318",
     "status": "completed"
    },
    "tags": []
   },
   "source": [
    "# User Defined Input and Max number in python"
   ]
  },
  {
   "cell_type": "code",
   "execution_count": 1,
   "id": "01286dec",
   "metadata": {
    "execution": {
     "iopub.execute_input": "2024-07-04T07:22:02.965354Z",
     "iopub.status.busy": "2024-07-04T07:22:02.964915Z",
     "iopub.status.idle": "2024-07-04T07:22:02.980348Z",
     "shell.execute_reply": "2024-07-04T07:22:02.978959Z"
    },
    "papermill": {
     "duration": 0.021094,
     "end_time": "2024-07-04T07:22:02.982796",
     "exception": false,
     "start_time": "2024-07-04T07:22:02.961702",
     "status": "completed"
    },
    "tags": []
   },
   "outputs": [
    {
     "name": "stdout",
     "output_type": "stream",
     "text": [
      "Enter age 1\n",
      "Enter age 2\n",
      "Enter age 3\n",
      "The oldest age is: 30\n"
     ]
    }
   ],
   "source": [
    "# Simulated input function\n",
    "def input_sim(prompt):\n",
    "    inputs = {\n",
    "        \"Enter age 1\": 25,\n",
    "        \"Enter age 2\": 30,\n",
    "        \"Enter age 3\": 22\n",
    "    }\n",
    "    print(prompt)  # Optionally print the prompt to simulate the behavior of input()\n",
    "    return inputs[prompt]\n",
    "\n",
    "# Replace the input calls with input_sim\n",
    "age1 = int(input_sim(\"Enter age 1\"))\n",
    "age2 = int(input_sim(\"Enter age 2\"))\n",
    "age3 = int(input_sim(\"Enter age 3\"))\n",
    "\n",
    "# Custom max function\n",
    "def my_max(*args):\n",
    "    if not args:\n",
    "        raise ValueError(\"my_max() expects at least one argument\")\n",
    "\n",
    "    max_value = args[0]\n",
    "    for num in args[1:]:\n",
    "        if num > max_value:\n",
    "            max_value = num\n",
    "    return max_value\n",
    "\n",
    "# Find the oldest age using custom max function\n",
    "oldest = my_max(age1, age2, age3)\n",
    "\n",
    "print(f\"The oldest age is: {oldest}\")\n"
   ]
  },
  {
   "cell_type": "code",
   "execution_count": null,
   "id": "379be4d2",
   "metadata": {
    "papermill": {
     "duration": 0.001602,
     "end_time": "2024-07-04T07:22:02.986399",
     "exception": false,
     "start_time": "2024-07-04T07:22:02.984797",
     "status": "completed"
    },
    "tags": []
   },
   "outputs": [],
   "source": []
  }
 ],
 "metadata": {
  "kaggle": {
   "accelerator": "none",
   "dataSources": [],
   "dockerImageVersionId": 30732,
   "isGpuEnabled": false,
   "isInternetEnabled": true,
   "language": "python",
   "sourceType": "notebook"
  },
  "kernelspec": {
   "display_name": "Python 3",
   "language": "python",
   "name": "python3"
  },
  "language_info": {
   "codemirror_mode": {
    "name": "ipython",
    "version": 3
   },
   "file_extension": ".py",
   "mimetype": "text/x-python",
   "name": "python",
   "nbconvert_exporter": "python",
   "pygments_lexer": "ipython3",
   "version": "3.10.13"
  },
  "papermill": {
   "default_parameters": {},
   "duration": 3.191026,
   "end_time": "2024-07-04T07:22:03.307696",
   "environment_variables": {},
   "exception": null,
   "input_path": "__notebook__.ipynb",
   "output_path": "__notebook__.ipynb",
   "parameters": {},
   "start_time": "2024-07-04T07:22:00.116670",
   "version": "2.5.0"
  }
 },
 "nbformat": 4,
 "nbformat_minor": 5
}
